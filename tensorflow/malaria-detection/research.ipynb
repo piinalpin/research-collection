{
  "nbformat": 4,
  "nbformat_minor": 0,
  "metadata": {
    "accelerator": "TPU",
    "colab": {
      "name": "research.ipynb",
      "provenance": [],
      "collapsed_sections": []
    },
    "kernelspec": {
      "display_name": "Python 3",
      "name": "python3"
    },
    "language_info": {
      "name": "python"
    }
  },
  "cells": [
    {
      "cell_type": "code",
      "metadata": {
        "id": "lIOBPOKfI28I"
      },
      "source": [
        "from tensorflow import keras\n",
        "from tensorflow.keras import Sequential\n",
        "from tensorflow.keras.layers import Conv2D, Activation, MaxPooling2D, Dropout, Flatten, Dense\n",
        "from tensorflow.keras.preprocessing.image import ImageDataGenerator\n",
        "from tensorflow.keras.models import load_model\n",
        "from PIL import Image\n",
        "from skimage import transform\n",
        "\n",
        "import os\n",
        "import numpy as np\n",
        "import glob"
      ],
      "execution_count": 1,
      "outputs": []
    },
    {
      "cell_type": "code",
      "metadata": {
        "colab": {
          "base_uri": "https://localhost:8080/"
        },
        "id": "4FHMWv1RKG35",
        "outputId": "32810705-77e6-4e3c-9416-372bcc1b7c45"
      },
      "source": [
        "parasitized = glob.glob('dataset/parasitized/*.png')\n",
        "uninfected = glob.glob('dataset/uninfected/*.png')\n",
        "\n",
        "print(\"Parasitized data: {}\\nUninfected data: {}\".format(len(parasitized), len(uninfected)))"
      ],
      "execution_count": null,
      "outputs": [
        {
          "output_type": "stream",
          "name": "stdout",
          "text": [
            "Parasitized data: 1000\n",
            "Uninfected data: 1000\n"
          ]
        }
      ]
    },
    {
      "cell_type": "markdown",
      "metadata": {
        "id": "n-6yGhcQLZu9"
      },
      "source": [
        "### Preprocessing"
      ]
    },
    {
      "cell_type": "markdown",
      "metadata": {
        "id": "7vwy_H6YLf4S"
      },
      "source": [
        "#### Data Augmentation"
      ]
    },
    {
      "cell_type": "code",
      "metadata": {
        "colab": {
          "base_uri": "https://localhost:8080/"
        },
        "id": "ULcOkamBK4FJ",
        "outputId": "0c03bea8-9c4b-4448-becd-324813e52a8c"
      },
      "source": [
        "dimension = 128\n",
        "batch = 32\n",
        "data_dir = \"dataset\"\n",
        "\n",
        "datagen = ImageDataGenerator(rescale=1/255.0, \n",
        "                             validation_split=0.2,\n",
        "                             zoom_range=0.05,\n",
        "                             width_shift_range=0.05,\n",
        "                             height_shift_range=0.05,\n",
        "                             shear_range=0.05,\n",
        "                             horizontal_flip=True)\n",
        "\n",
        "train_data = datagen.flow_from_directory(data_dir, \n",
        "                                         target_size=(dimension, dimension), \n",
        "                                         batch_size=batch, \n",
        "                                         class_mode='categorical', \n",
        "                                         subset='training')\n",
        "\n",
        "validation_data = datagen.flow_from_directory(data_dir,\n",
        "                                              target_size=(dimension, dimension),\n",
        "                                              batch_size=batch,\n",
        "                                              class_mode='categorical',\n",
        "                                              subset='validation',\n",
        "                                              shuffle=False)\n",
        "\n",
        "test_data = datagen.flow_from_directory(data_dir,\n",
        "                                        target_size=(dimension, dimension),\n",
        "                                        batch_size=1,\n",
        "                                        shuffle=False)\n",
        "\n",
        "print(\"Indexes class labels: \", train_data.class_indices)\n",
        "print(\"Number of training data: \", len(train_data))\n",
        "print(\"Number of validation data: \", len(validation_data))\n",
        "print(\"Number of testing data: \", len(test_data))"
      ],
      "execution_count": null,
      "outputs": [
        {
          "output_type": "stream",
          "name": "stdout",
          "text": [
            "Found 1600 images belonging to 2 classes.\n",
            "Found 400 images belonging to 2 classes.\n",
            "Found 2000 images belonging to 2 classes.\n",
            "Indexes class labels:  {'Parasitized': 0, 'Uninfected': 1}\n",
            "Number of training data:  50\n",
            "Number of validation data:  13\n",
            "Number of testing data:  2000\n"
          ]
        }
      ]
    },
    {
      "cell_type": "markdown",
      "metadata": {
        "id": "NRHQ9uYXL-pW"
      },
      "source": [
        "#### Modeling Data Training"
      ]
    },
    {
      "cell_type": "code",
      "metadata": {
        "id": "tQYYemY-MEZL",
        "colab": {
          "base_uri": "https://localhost:8080/"
        },
        "outputId": "aa62d362-098e-4769-f8ff-889e13b6dae5"
      },
      "source": [
        "model = Sequential()\n",
        "model.add(Conv2D(filters=16, kernel_size=3, padding=\"same\", activation=\"relu\", input_shape=(dimension, dimension, 3)))\n",
        "model.add(MaxPooling2D(pool_size=2))\n",
        "\n",
        "model.add(Conv2D(filters=32, kernel_size=3, padding=\"same\", activation=\"relu\"))\n",
        "model.add(MaxPooling2D(pool_size=2))\n",
        "\n",
        "model.add(Conv2D(filters=64, kernel_size=3, padding=\"same\", activation=\"relu\"))\n",
        "model.add(MaxPooling2D(pool_size=2))\n",
        "\n",
        "model.add(Dropout(0.2))\n",
        "model.add(Flatten())\n",
        "model.add(Dense(64, activation=\"relu\"))\n",
        "model.add(Dropout(0.2))\n",
        "model.add(Dense(2, activation=\"softmax\"))\n",
        "\n",
        "# Compile the model\n",
        "model.compile(optimizer=\"adam\", \n",
        "              loss=\"binary_crossentropy\", \n",
        "              metrics=[\"accuracy\"])\n",
        "\n",
        "# Save the best trained model by monitoring validation loss\n",
        "model_name = \"train_data_model.b\"\n",
        "model_checkpoint = ModelCheckpoint(model_name, \n",
        "                                   save_weights_only=False, \n",
        "                                   monitor='val_loss', \n",
        "                                   verbose=1, \n",
        "                                   mode='auto', \n",
        "                                   save_best_only=True)\n",
        "\n",
        "# Training dataset\n",
        "history = model.fit(train_data, \n",
        "                    batch_size=batch, \n",
        "                    epochs=30, \n",
        "                    validation_data=validation_data,\n",
        "                    callbacks = [model_checkpoint],\n",
        "                    verbose=1)"
      ],
      "execution_count": null,
      "outputs": [
        {
          "output_type": "stream",
          "name": "stdout",
          "text": [
            "Epoch 1/30\n",
            "50/50 [==============================] - 385s 8s/step - loss: 0.6946 - accuracy: 0.5412 - val_loss: 0.6757 - val_accuracy: 0.5750\n",
            "\n",
            "Epoch 00001: val_loss improved from inf to 0.67573, saving model to /content/drive/MyDrive/malaria/train_data_model.b\n",
            "INFO:tensorflow:Assets written to: /content/drive/MyDrive/malaria/train_data_model.b/assets\n",
            "Epoch 2/30\n",
            "50/50 [==============================] - 37s 738ms/step - loss: 0.6539 - accuracy: 0.6275 - val_loss: 0.7431 - val_accuracy: 0.6050\n",
            "\n",
            "Epoch 00002: val_loss did not improve from 0.67573\n",
            "Epoch 3/30\n",
            "50/50 [==============================] - 37s 730ms/step - loss: 0.6077 - accuracy: 0.6781 - val_loss: 0.5729 - val_accuracy: 0.8025\n",
            "\n",
            "Epoch 00003: val_loss improved from 0.67573 to 0.57291, saving model to /content/drive/MyDrive/malaria/train_data_model.b\n",
            "INFO:tensorflow:Assets written to: /content/drive/MyDrive/malaria/train_data_model.b/assets\n",
            "Epoch 4/30\n",
            "50/50 [==============================] - 37s 728ms/step - loss: 0.5003 - accuracy: 0.7944 - val_loss: 0.3429 - val_accuracy: 0.9100\n",
            "\n",
            "Epoch 00004: val_loss improved from 0.57291 to 0.34292, saving model to /content/drive/MyDrive/malaria/train_data_model.b\n",
            "INFO:tensorflow:Assets written to: /content/drive/MyDrive/malaria/train_data_model.b/assets\n",
            "Epoch 5/30\n",
            "50/50 [==============================] - 36s 719ms/step - loss: 0.3732 - accuracy: 0.8700 - val_loss: 0.3289 - val_accuracy: 0.9525\n",
            "\n",
            "Epoch 00005: val_loss improved from 0.34292 to 0.32895, saving model to /content/drive/MyDrive/malaria/train_data_model.b\n",
            "INFO:tensorflow:Assets written to: /content/drive/MyDrive/malaria/train_data_model.b/assets\n",
            "Epoch 6/30\n",
            "50/50 [==============================] - 36s 713ms/step - loss: 0.2928 - accuracy: 0.9075 - val_loss: 0.2042 - val_accuracy: 0.9625\n",
            "\n",
            "Epoch 00006: val_loss improved from 0.32895 to 0.20417, saving model to /content/drive/MyDrive/malaria/train_data_model.b\n",
            "INFO:tensorflow:Assets written to: /content/drive/MyDrive/malaria/train_data_model.b/assets\n",
            "Epoch 7/30\n",
            "50/50 [==============================] - 36s 714ms/step - loss: 0.2408 - accuracy: 0.9162 - val_loss: 0.1845 - val_accuracy: 0.9575\n",
            "\n",
            "Epoch 00007: val_loss improved from 0.20417 to 0.18446, saving model to /content/drive/MyDrive/malaria/train_data_model.b\n",
            "INFO:tensorflow:Assets written to: /content/drive/MyDrive/malaria/train_data_model.b/assets\n",
            "Epoch 8/30\n",
            "50/50 [==============================] - 36s 710ms/step - loss: 0.2558 - accuracy: 0.9194 - val_loss: 0.1912 - val_accuracy: 0.9675\n",
            "\n",
            "Epoch 00008: val_loss did not improve from 0.18446\n",
            "Epoch 9/30\n",
            "50/50 [==============================] - 35s 705ms/step - loss: 0.2446 - accuracy: 0.9200 - val_loss: 0.2255 - val_accuracy: 0.9600\n",
            "\n",
            "Epoch 00009: val_loss did not improve from 0.18446\n",
            "Epoch 10/30\n",
            "50/50 [==============================] - 35s 707ms/step - loss: 0.2194 - accuracy: 0.9244 - val_loss: 0.2296 - val_accuracy: 0.9550\n",
            "\n",
            "Epoch 00010: val_loss did not improve from 0.18446\n",
            "Epoch 11/30\n",
            "50/50 [==============================] - 35s 704ms/step - loss: 0.2042 - accuracy: 0.9225 - val_loss: 0.2848 - val_accuracy: 0.9275\n",
            "\n",
            "Epoch 00011: val_loss did not improve from 0.18446\n",
            "Epoch 12/30\n",
            "50/50 [==============================] - 35s 702ms/step - loss: 0.2225 - accuracy: 0.9256 - val_loss: 0.1900 - val_accuracy: 0.9625\n",
            "\n",
            "Epoch 00012: val_loss did not improve from 0.18446\n",
            "Epoch 13/30\n",
            "50/50 [==============================] - 35s 706ms/step - loss: 0.1790 - accuracy: 0.9388 - val_loss: 0.1845 - val_accuracy: 0.9650\n",
            "\n",
            "Epoch 00013: val_loss did not improve from 0.18446\n",
            "Epoch 14/30\n",
            "50/50 [==============================] - 36s 707ms/step - loss: 0.1700 - accuracy: 0.9431 - val_loss: 0.2820 - val_accuracy: 0.8950\n",
            "\n",
            "Epoch 00014: val_loss did not improve from 0.18446\n",
            "Epoch 15/30\n",
            "50/50 [==============================] - 35s 702ms/step - loss: 0.1573 - accuracy: 0.9488 - val_loss: 0.1890 - val_accuracy: 0.9700\n",
            "\n",
            "Epoch 00015: val_loss did not improve from 0.18446\n",
            "Epoch 16/30\n",
            "50/50 [==============================] - 35s 701ms/step - loss: 0.1580 - accuracy: 0.9456 - val_loss: 0.2242 - val_accuracy: 0.9600\n",
            "\n",
            "Epoch 00016: val_loss did not improve from 0.18446\n",
            "Epoch 17/30\n",
            "50/50 [==============================] - 35s 700ms/step - loss: 0.1635 - accuracy: 0.9419 - val_loss: 0.2156 - val_accuracy: 0.9600\n",
            "\n",
            "Epoch 00017: val_loss did not improve from 0.18446\n",
            "Epoch 18/30\n",
            "50/50 [==============================] - 35s 703ms/step - loss: 0.1359 - accuracy: 0.9513 - val_loss: 0.2004 - val_accuracy: 0.9600\n",
            "\n",
            "Epoch 00018: val_loss did not improve from 0.18446\n",
            "Epoch 19/30\n",
            "50/50 [==============================] - 35s 703ms/step - loss: 0.1240 - accuracy: 0.9575 - val_loss: 0.2137 - val_accuracy: 0.9675\n",
            "\n",
            "Epoch 00019: val_loss did not improve from 0.18446\n",
            "Epoch 20/30\n",
            "50/50 [==============================] - 35s 704ms/step - loss: 0.1456 - accuracy: 0.9525 - val_loss: 0.1933 - val_accuracy: 0.9675\n",
            "\n",
            "Epoch 00020: val_loss did not improve from 0.18446\n",
            "Epoch 21/30\n",
            "50/50 [==============================] - 35s 706ms/step - loss: 0.1310 - accuracy: 0.9556 - val_loss: 0.2385 - val_accuracy: 0.9175\n",
            "\n",
            "Epoch 00021: val_loss did not improve from 0.18446\n",
            "Epoch 22/30\n",
            "50/50 [==============================] - 36s 707ms/step - loss: 0.1249 - accuracy: 0.9563 - val_loss: 0.2305 - val_accuracy: 0.9675\n",
            "\n",
            "Epoch 00022: val_loss did not improve from 0.18446\n",
            "Epoch 23/30\n",
            "50/50 [==============================] - 35s 707ms/step - loss: 0.1250 - accuracy: 0.9613 - val_loss: 0.2087 - val_accuracy: 0.9725\n",
            "\n",
            "Epoch 00023: val_loss did not improve from 0.18446\n",
            "Epoch 24/30\n",
            "50/50 [==============================] - 35s 704ms/step - loss: 0.1121 - accuracy: 0.9613 - val_loss: 0.2056 - val_accuracy: 0.9800\n",
            "\n",
            "Epoch 00024: val_loss did not improve from 0.18446\n",
            "Epoch 25/30\n",
            "50/50 [==============================] - 35s 701ms/step - loss: 0.1040 - accuracy: 0.9644 - val_loss: 0.2374 - val_accuracy: 0.9600\n",
            "\n",
            "Epoch 00025: val_loss did not improve from 0.18446\n",
            "Epoch 26/30\n",
            "50/50 [==============================] - 35s 706ms/step - loss: 0.1471 - accuracy: 0.9456 - val_loss: 0.2040 - val_accuracy: 0.9125\n",
            "\n",
            "Epoch 00026: val_loss did not improve from 0.18446\n",
            "Epoch 27/30\n",
            "50/50 [==============================] - 35s 700ms/step - loss: 0.1291 - accuracy: 0.9600 - val_loss: 0.1911 - val_accuracy: 0.9125\n",
            "\n",
            "Epoch 00027: val_loss did not improve from 0.18446\n",
            "Epoch 28/30\n",
            "50/50 [==============================] - 36s 708ms/step - loss: 0.1096 - accuracy: 0.9588 - val_loss: 0.1772 - val_accuracy: 0.9450\n",
            "\n",
            "Epoch 00028: val_loss improved from 0.18446 to 0.17724, saving model to /content/drive/MyDrive/malaria/train_data_model.b\n",
            "INFO:tensorflow:Assets written to: /content/drive/MyDrive/malaria/train_data_model.b/assets\n",
            "Epoch 29/30\n",
            "50/50 [==============================] - 36s 712ms/step - loss: 0.1065 - accuracy: 0.9606 - val_loss: 0.1602 - val_accuracy: 0.9750\n",
            "\n",
            "Epoch 00029: val_loss improved from 0.17724 to 0.16025, saving model to /content/drive/MyDrive/malaria/train_data_model.b\n",
            "INFO:tensorflow:Assets written to: /content/drive/MyDrive/malaria/train_data_model.b/assets\n",
            "Epoch 30/30\n",
            "50/50 [==============================] - 36s 713ms/step - loss: 0.1166 - accuracy: 0.9581 - val_loss: 0.1822 - val_accuracy: 0.9525\n",
            "\n",
            "Epoch 00030: val_loss did not improve from 0.16025\n"
          ]
        }
      ]
    },
    {
      "cell_type": "markdown",
      "metadata": {
        "id": "IVeNV_a1RevT"
      },
      "source": [
        "### Evaluate Model"
      ]
    },
    {
      "cell_type": "code",
      "metadata": {
        "colab": {
          "base_uri": "https://localhost:8080/"
        },
        "id": "AOysYz5UMGl9",
        "outputId": "e0b05c5f-5b10-4492-e48e-d0f37c14f96f"
      },
      "source": [
        "# Load compiled model\n",
        "model = load_model(\"train_data_model.b\")\n",
        "model.evaluate(test_data, verbose=0)"
      ],
      "execution_count": null,
      "outputs": [
        {
          "output_type": "execute_result",
          "data": {
            "text/plain": [
              "[0.11002203077077866, 0.9639999866485596]"
            ]
          },
          "metadata": {},
          "execution_count": 7
        }
      ]
    },
    {
      "cell_type": "code",
      "metadata": {
        "id": "-yL1J7K9t30e"
      },
      "source": [
        "def load(filename):\n",
        "   np_image = Image.open(filename)\n",
        "   np_image = np.array(np_image).astype('int32')/255\n",
        "   np_image = transform.resize(np_image, (128, 128, 3))\n",
        "   np_image = np.expand_dims(np_image, axis=0)\n",
        "   return np_image"
      ],
      "execution_count": null,
      "outputs": []
    },
    {
      "cell_type": "code",
      "metadata": {
        "id": "Tmg7dyMdxsq1"
      },
      "source": [
        "def prediction(image):\n",
        "  np_image = load(image)\n",
        "  prediction = model.predict(np_image) # Predict input image\n",
        "  result = [1 * (x[0]>=0.5) for x in prediction] # Normalize prediction\n",
        "  if result[0] == 0:\n",
        "    return False\n",
        "  return True"
      ],
      "execution_count": null,
      "outputs": []
    },
    {
      "cell_type": "code",
      "metadata": {
        "colab": {
          "base_uri": "https://localhost:8080/"
        },
        "id": "kQoO4s0x34Ll",
        "outputId": "a84957b6-81c3-47d4-ed86-184c4138296b"
      },
      "source": [
        "test1 = prediction(\"test-data/parasitized1.png\")\n",
        "test2 = prediction(\"test-data/parasitized2.png\")\n",
        "test3 = prediction(\"test-data/parasitized3.png\")\n",
        "test4 = prediction(\"test-data/parasitized4.png\")\n",
        "test5 = prediction(\"test-data/uninfected1.png\")\n",
        "test6 = prediction(\"test-data/uninfected2.png\")\n",
        "test7 = prediction(\"test-data/uninfected3.png\")\n",
        "test8 = prediction(\"test-data/uninfected4.png\")\n",
        "\n",
        "print(\"Result for infected or uninfected of malaria\")\n",
        "print(\"Test 1: \", test1)\n",
        "print(\"Test 2: \", test2)\n",
        "print(\"Test 3: \", test3)\n",
        "print(\"Test 4: \", test4)\n",
        "print(\"Test 5: \", test5)\n",
        "print(\"Test 6: \", test6)\n",
        "print(\"Test 7: \", test7)\n",
        "print(\"Test 8: \", test8)"
      ],
      "execution_count": null,
      "outputs": [
        {
          "output_type": "stream",
          "name": "stdout",
          "text": [
            "Result for infected or uninfected of malaria\n",
            "Test 1:  True\n",
            "Test 2:  True\n",
            "Test 3:  True\n",
            "Test 4:  True\n",
            "Test 5:  False\n",
            "Test 6:  False\n",
            "Test 7:  False\n",
            "Test 8:  False\n"
          ]
        }
      ]
    }
  ]
}